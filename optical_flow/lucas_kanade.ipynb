{
 "cells": [
  {
   "cell_type": "code",
   "execution_count": 6,
   "metadata": {},
   "outputs": [
    {
     "data": {
      "text/plain": [
       "<module 'lukas_kanade' from '/home/hannahcl/Documents/fagV23/Feature-tracking/optical_flow/lukas_kanade.py'>"
      ]
     },
     "execution_count": 6,
     "metadata": {},
     "output_type": "execute_result"
    }
   ],
   "source": [
    "import importlib\n",
    "import numpy as np\n",
    "import cv2 as cv\n",
    "from PIL import Image\n",
    "import lk_util\n",
    "import lukas_kanade \n",
    "import yaml\n",
    "import time\n",
    "\n",
    "importlib.reload(lk_util)\n",
    "importlib.reload(lukas_kanade)\n",
    "\n"
   ]
  },
  {
   "cell_type": "code",
   "execution_count": 7,
   "metadata": {},
   "outputs": [],
   "source": [
    "# -- Import video frames\n",
    "\n",
    "cap = cv.VideoCapture('https://www.bogotobogo.com/python/OpenCV_Python/images/mean_shift_tracking/slow_traffic_small.mp4')\n"
   ]
  },
  {
   "cell_type": "code",
   "execution_count": 8,
   "metadata": {},
   "outputs": [
    {
     "name": "stdout",
     "output_type": "stream",
     "text": [
      "[[304.  86.]\n",
      " [350.  97.]\n",
      " [272. 104.]\n",
      " [301. 105.]\n",
      " [236. 150.]\n",
      " [254. 150.]\n",
      " [264. 150.]\n",
      " [183. 185.]\n",
      " [162. 191.]\n",
      " [308. 211.]\n",
      " [160. 215.]\n",
      " [165. 218.]\n",
      " [380. 244.]]\n"
     ]
    }
   ],
   "source": [
    "\n",
    "# Take first frame \n",
    "ret, old_frame = cap.read()\n",
    "target_image = cv.cvtColor(old_frame, cv.COLOR_BGR2GRAY)\n",
    "\n",
    "# #Find corners with goodFeaturesToTrack\n",
    "# feature_params = dict( maxCorners = 100,\n",
    "#                        qualityLevel = 0.3,\n",
    "#                        minDistance = 7,\n",
    "#                        blockSize = 7 )\n",
    "# initial_feature_detections_positions = cv.goodFeaturesToTrack(target_image, mask = None, **feature_params)\n",
    "# initial_feature_detections = np.array([[*p] for p in initial_feature_detections_positions.reshape(-1,2)])\n",
    "\n",
    "\n",
    "#  Or, Use FAST feature detector to detect initial features\n",
    "fast = cv.FastFeatureDetector_create(threshold=100)\n",
    "initial_feature_detections = fast.detect(target_image, None)\n",
    "initial_feature_detections = np.array([p.pt for p in initial_feature_detections])\n",
    "\n",
    "print(initial_feature_detections)\n",
    "\n"
   ]
  },
  {
   "cell_type": "code",
   "execution_count": 9,
   "metadata": {},
   "outputs": [
    {
     "name": "stdout",
     "output_type": "stream",
     "text": [
      "Over 101s, it took 116.63493754437722 milliseconds on avarage to track 2 features.\n"
     ]
    }
   ],
   "source": [
    "\n",
    "\n",
    "# Initialize LucasKanade with configuration\n",
    "with open('config.yaml', 'r') as f:\n",
    "    config = yaml.safe_load(f)\n",
    "\n",
    "lk = lukas_kanade.LucasKanade(config)\n",
    "lk.target_image = target_image\n",
    "lk.get_initial_feature_detections(initial_feature_detections) \n",
    "\n",
    "time_recodring = []\n",
    "\n",
    "while(True):\n",
    "\n",
    "    if lk.i_frame >= lk.n_frames -1:\n",
    "        break\n",
    "\n",
    "    ret, frame = cap.read()\n",
    "\n",
    "    start_time = time.perf_counter()\n",
    "    lk.find_tracks_in_target_image(frame)\n",
    "    end_time = time.perf_counter()\n",
    "\n",
    "    elapsed_time_ms = (end_time - start_time) * 1000\n",
    "    time_recodring.append(elapsed_time_ms)\n",
    "\n",
    "    if lk.show_and_save_tracks == True:\n",
    "        lk.show_and_save_tracked_features()\n",
    "\n",
    "time_recodring = np.array(time_recodring)\n",
    "average_time = np.average(time_recodring)       \n",
    "print(f\"Over {lk.i_frame}s, it took {average_time} milliseconds on avarage to track {lk.n_features} features.\")"
   ]
  },
  {
   "cell_type": "code",
   "execution_count": 10,
   "metadata": {},
   "outputs": [
    {
     "name": "stdout",
     "output_type": "stream",
     "text": [
      "dogbox arctan\n",
      "Frame 3 and track 0\n",
      "gt: [237.51762 150.13889], estimated: [304.75614809  86.51376684], error: [67.23852809 63.62512316]\n",
      "Frame 3 and track 1\n",
      "gt: [301.1077 103.7322], estimated: [350.07043632  96.45577447], error: [48.96273632  7.27642553]\n",
      "Frame 10 and track 0\n",
      "gt: [238.79219 153.61865], estimated: [304.78664067  89.23738533], error: [65.99445067 64.38126467]\n",
      "Frame 10 and track 1\n",
      "gt: [303.31433 105.66835], estimated: [345.77336989  97.0316457 ], error: [42.45903989  8.6367043 ]\n",
      "Frame 50 and track 0\n",
      "gt: [244.10954 168.41335], estimated: [311.40946097  94.8889392 ], error: [67.29992097 73.5244108 ]\n",
      "Frame 50 and track 1\n",
      "gt: [312.2983  113.05156], estimated: [330.66513963  97.76238642], error: [18.36683963 15.28917358]\n",
      "Frame 100 and track 0\n",
      "gt: [254.71289 187.72498], estimated: [326.05456547 106.67406331], error: [71.34167547 81.05091669]\n",
      "Frame 100 and track 1\n",
      "gt: [327.3952 124.8906], estimated: [334.34432486 103.56148882], error: [ 6.94912486 21.32911118]\n"
     ]
    }
   ],
   "source": [
    "\n",
    "lk.compare_tracks_to_ground_truth()   \n",
    "\n",
    "cv.waitKey()\n",
    "cv.destroyAllWindows()\n",
    "\n",
    "\n"
   ]
  },
  {
   "cell_type": "code",
   "execution_count": null,
   "metadata": {},
   "outputs": [],
   "source": []
  }
 ],
 "metadata": {
  "kernelspec": {
   "display_name": "Python 3.8.10 64-bit",
   "language": "python",
   "name": "python3"
  },
  "language_info": {
   "codemirror_mode": {
    "name": "ipython",
    "version": 3
   },
   "file_extension": ".py",
   "mimetype": "text/x-python",
   "name": "python",
   "nbconvert_exporter": "python",
   "pygments_lexer": "ipython3",
   "version": "3.8.10"
  },
  "orig_nbformat": 4,
  "vscode": {
   "interpreter": {
    "hash": "31f2aee4e71d21fbe5cf8b01ff0e069b9275f58929596ceb00d14d90e3e16cd6"
   }
  }
 },
 "nbformat": 4,
 "nbformat_minor": 2
}
