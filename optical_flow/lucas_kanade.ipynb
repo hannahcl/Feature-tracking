{
 "cells": [
  {
   "cell_type": "code",
   "execution_count": 2,
   "metadata": {},
   "outputs": [
    {
     "data": {
      "text/plain": [
       "<module 'lukas_kanade' from '/home/hannahcl/Documents/fagV23/Feature-tracking/optical_flow/lukas_kanade.py'>"
      ]
     },
     "execution_count": 2,
     "metadata": {},
     "output_type": "execute_result"
    }
   ],
   "source": [
    "import importlib\n",
    "import numpy as np\n",
    "import cv2 as cv\n",
    "from PIL import Image\n",
    "import lk_util\n",
    "import lukas_kanade \n",
    "import yaml\n",
    "import time\n",
    "\n",
    "importlib.reload(lk_util)\n",
    "importlib.reload(lukas_kanade)\n",
    "\n"
   ]
  },
  {
   "cell_type": "code",
   "execution_count": 3,
   "metadata": {},
   "outputs": [],
   "source": [
    "# -- Import video frames\n",
    "\n",
    "cap = cv.VideoCapture('https://www.bogotobogo.com/python/OpenCV_Python/images/mean_shift_tracking/slow_traffic_small.mp4')\n"
   ]
  },
  {
   "cell_type": "code",
   "execution_count": 4,
   "metadata": {},
   "outputs": [],
   "source": [
    "\n",
    "# Take first frame \n",
    "ret, old_frame = cap.read()\n",
    "target_image = cv.cvtColor(old_frame, cv.COLOR_BGR2GRAY)\n",
    "\n",
    "# #Find corners with goodFeaturesToTrack\n",
    "# feature_params = dict( maxCorners = 100,\n",
    "#                        qualityLevel = 0.3,\n",
    "#                        minDistance = 7,\n",
    "#                        blockSize = 7 )\n",
    "# initial_feature_detections_positions = cv.goodFeaturesToTrack(target_image, mask = None, **feature_params)\n",
    "# initial_feature_detections = np.array([[*p] for p in initial_feature_detections_positions.reshape(-1,2)])\n",
    "\n",
    "\n",
    "#  Or, Use FAST feature detector to detect initial features\n",
    "fast = cv.FastFeatureDetector_create(threshold=100)\n",
    "initial_feature_detections = fast.detect(target_image, None)\n",
    "initial_feature_detections = np.array([p.pt for p in initial_feature_detections])\n",
    "\n",
    "print(initial_feature_detections)\n",
    "\n"
   ]
  },
  {
   "cell_type": "code",
   "execution_count": 5,
   "metadata": {},
   "outputs": [],
   "source": [
    "\n",
    "\n",
    "# Initialize LucasKanade with configuration\n",
    "with open('config.yaml', 'r') as f:\n",
    "    config = yaml.safe_load(f)\n",
    "\n",
    "lk = lukas_kanade.LucasKanade(config)\n",
    "lk.target_image = target_image\n",
    "lk.get_initial_feature_detections(initial_feature_detections) \n",
    "\n",
    "time_recodring = []\n",
    "\n",
    "while(True):\n",
    "\n",
    "    if lk.i_frame >= lk.n_frames -1:\n",
    "        break\n",
    "\n",
    "    ret, frame = cap.read()\n",
    "\n",
    "    start_time = time.perf_counter()\n",
    "    lk.find_tracks_in_target_image(frame)\n",
    "    end_time = time.perf_counter()\n",
    "\n",
    "    elapsed_time_ms = (end_time - start_time) * 1000\n",
    "    time_recodring.append(elapsed_time_ms)\n",
    "\n",
    "    if lk.show_and_save_tracks == True:\n",
    "        lk.show_and_save_tracked_features()\n",
    "\n",
    "time_recodring = np.array(time_recodring)\n",
    "average_time = np.average(time_recodring)       \n",
    "print(f\"Over {lk.i_frame}s, it took {average_time} milliseconds on avarage to track {lk.n_features} features.\")"
   ]
  },
  {
   "cell_type": "code",
   "execution_count": null,
   "metadata": {},
   "outputs": [
    {
     "name": "stdout",
     "output_type": "stream",
     "text": [
      "dogbox arctan\n",
      "Frame 3 and track 0\n",
      "gt: [237.51762 150.13889], estimated: [349.48970406  18.65189955], error: [111.97208406 131.48699045]\n",
      "Frame 3 and track 1\n",
      "gt: [301.1077 103.7322], estimated: [350.2669365   22.38488908], error: [49.1592365  81.34731092]\n"
     ]
    },
    {
     "ename": "IndexError",
     "evalue": "index 2 is out of bounds for axis 0 with size 2",
     "output_type": "error",
     "traceback": [
      "\u001b[0;31m---------------------------------------------------------------------------\u001b[0m",
      "\u001b[0;31mIndexError\u001b[0m                                Traceback (most recent call last)",
      "\u001b[1;32m/home/hannahcl/Documents/fagV23/Feature-tracking/optical_flow/lucas_kanade.ipynb Cell 5\u001b[0m in \u001b[0;36m1\n\u001b[0;32m----> <a href='vscode-notebook-cell:/home/hannahcl/Documents/fagV23/Feature-tracking/optical_flow/lucas_kanade.ipynb#W3sZmlsZQ%3D%3D?line=0'>1</a>\u001b[0m lk\u001b[39m.\u001b[39;49mcompare_tracks_to_ground_truth()   \n\u001b[1;32m      <a href='vscode-notebook-cell:/home/hannahcl/Documents/fagV23/Feature-tracking/optical_flow/lucas_kanade.ipynb#W3sZmlsZQ%3D%3D?line=2'>3</a>\u001b[0m cv\u001b[39m.\u001b[39mwaitKey()\n\u001b[1;32m      <a href='vscode-notebook-cell:/home/hannahcl/Documents/fagV23/Feature-tracking/optical_flow/lucas_kanade.ipynb#W3sZmlsZQ%3D%3D?line=3'>4</a>\u001b[0m cv\u001b[39m.\u001b[39mdestroyAllWindows()\n",
      "File \u001b[0;32m~/Documents/fagV23/Feature-tracking/optical_flow/lukas_kanade.py:262\u001b[0m, in \u001b[0;36mLucasKanade.compare_tracks_to_ground_truth\u001b[0;34m(self)\u001b[0m\n\u001b[1;32m    260\u001b[0m gt \u001b[39m=\u001b[39m np\u001b[39m.\u001b[39marray(\u001b[39mself\u001b[39m\u001b[39m.\u001b[39mground_truth[\u001b[39mf\u001b[39m\u001b[39m'\u001b[39m\u001b[39mtracks_frame_\u001b[39m\u001b[39m{\u001b[39;00mi\u001b[39m}\u001b[39;00m\u001b[39m'\u001b[39m])\n\u001b[1;32m    261\u001b[0m \u001b[39mfor\u001b[39;00m j \u001b[39min\u001b[39;00m \u001b[39mrange\u001b[39m(\u001b[39mself\u001b[39m\u001b[39m.\u001b[39mn_features):\n\u001b[0;32m--> 262\u001b[0m     error \u001b[39m=\u001b[39m np\u001b[39m.\u001b[39mabs(tracks[j] \u001b[39m-\u001b[39m gt[j])\n\u001b[1;32m    263\u001b[0m     \u001b[39mprint\u001b[39m(\u001b[39mf\u001b[39m\u001b[39m\"\u001b[39m\u001b[39mFrame \u001b[39m\u001b[39m{\u001b[39;00mi\u001b[39m}\u001b[39;00m\u001b[39m and track \u001b[39m\u001b[39m{\u001b[39;00mj\u001b[39m}\u001b[39;00m\u001b[39m\"\u001b[39m)\n\u001b[1;32m    264\u001b[0m     \u001b[39mprint\u001b[39m(\u001b[39mf\u001b[39m\u001b[39m\"\u001b[39m\u001b[39mgt: \u001b[39m\u001b[39m{\u001b[39;00mgt[j]\u001b[39m}\u001b[39;00m\u001b[39m, estimated: \u001b[39m\u001b[39m{\u001b[39;00mtracks[j]\u001b[39m}\u001b[39;00m\u001b[39m, error: \u001b[39m\u001b[39m{\u001b[39;00merror\u001b[39m}\u001b[39;00m\u001b[39m\"\u001b[39m)\n",
      "\u001b[0;31mIndexError\u001b[0m: index 2 is out of bounds for axis 0 with size 2"
     ]
    },
    {
     "ename": "",
     "evalue": "",
     "output_type": "error",
     "traceback": [
      "\u001b[1;31mThe Kernel crashed while executing code in the the current cell or a previous cell. Please review the code in the cell(s) to identify a possible cause of the failure. Click <a href='https://aka.ms/vscodeJupyterKernelCrash'>here</a> for more info. View Jupyter <a href='command:jupyter.viewOutput'>log</a> for further details."
     ]
    }
   ],
   "source": [
    "\n",
    "lk.compare_tracks_to_ground_truth()   \n",
    "\n",
    "cv.waitKey()\n",
    "cv.destroyAllWindows()\n",
    "\n",
    "\n"
   ]
  },
  {
   "cell_type": "code",
   "execution_count": null,
   "metadata": {},
   "outputs": [],
   "source": []
  }
 ],
 "metadata": {
  "kernelspec": {
   "display_name": "Python 3.8.10 64-bit",
   "language": "python",
   "name": "python3"
  },
  "language_info": {
   "codemirror_mode": {
    "name": "ipython",
    "version": 3
   },
   "file_extension": ".py",
   "mimetype": "text/x-python",
   "name": "python",
   "nbconvert_exporter": "python",
   "pygments_lexer": "ipython3",
   "version": "3.8.10"
  },
  "orig_nbformat": 4,
  "vscode": {
   "interpreter": {
    "hash": "31f2aee4e71d21fbe5cf8b01ff0e069b9275f58929596ceb00d14d90e3e16cd6"
   }
  }
 },
 "nbformat": 4,
 "nbformat_minor": 2
}
